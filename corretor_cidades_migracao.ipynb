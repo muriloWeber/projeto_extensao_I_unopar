{
  "nbformat": 4,
  "nbformat_minor": 0,
  "metadata": {
    "colab": {
      "provenance": []
    },
    "kernelspec": {
      "name": "python3",
      "display_name": "Python 3"
    },
    "language_info": {
      "name": "python"
    }
  },
  "cells": [
    {
      "cell_type": "markdown",
      "source": [
        "**Importando a lista de treino, com os nomes corretos das cidades.**"
      ],
      "metadata": {
        "id": "EMoqfs23HUpF"
      }
    },
    {
      "cell_type": "code",
      "execution_count": 2,
      "metadata": {
        "colab": {
          "base_uri": "https://localhost:8080/"
        },
        "id": "jqx6niFlGGBK",
        "outputId": "f2ab4d06-9e2a-403d-b533-40eb8302a77f"
      },
      "outputs": [
        {
          "output_type": "stream",
          "name": "stdout",
          "text": [
            "Acrelândia\n",
            "Assis Brasil\n",
            "Brasiléia\n",
            "Bujari\n",
            "Capixaba\n",
            "Cruzeiro do Sul\n",
            "Epitaciolândia\n",
            "Feijó\n",
            "Jordão\n",
            "Mâncio Lima\n",
            "Manoel Urbano\n",
            "Marechal Thaumaturgo\n",
            "Plácido de Castro\n",
            "Porto Acre\n",
            "Porto Walter\n",
            "Rio Branco\n",
            "Rodrigues Alves\n",
            "Santa Rosa do Purus\n",
            "Senador Guiomard\n",
            "Sena Madureira\n",
            "Tarauacá\n",
            "Xapuri\n",
            "Água Branca\n",
            "Anadia\n",
            "Arapiraca\n",
            "Atalaia\n",
            "Barra de Santo Antônio\n",
            "Barra de São Miguel\n",
            "Batalha\n",
            "Belém\n",
            "Belo Monte\n",
            "Boca da Mata\n",
            "Branquinha\n",
            "Cacimbinhas\n",
            "Cajueiro\n",
            "Campestre\n",
            "Campo Alegre\n",
            "Campo Grande\n",
            "Canapi\n",
            "Capela\n",
            "Carneiros\n",
            "Chã Preta\n",
            "Coité do Nói\n"
          ]
        }
      ],
      "source": [
        "with open('lista_cidades_treino.txt', 'r') as f:\n",
        "  lista_treino = f.read()\n",
        "\n",
        "print(lista_treino[:500])"
      ]
    },
    {
      "cell_type": "code",
      "source": [
        "# importando o módulo nltk (natural lenguage toolkit)\n",
        "import nltk\n",
        "\n",
        "nltk.download('punkt')"
      ],
      "metadata": {
        "colab": {
          "base_uri": "https://localhost:8080/"
        },
        "id": "vgUAWWo5GMcI",
        "outputId": "0d3f42d3-ca5e-46d6-f519-d0021c738fc3"
      },
      "execution_count": 3,
      "outputs": [
        {
          "output_type": "stream",
          "name": "stderr",
          "text": [
            "[nltk_data] Downloading package punkt to /root/nltk_data...\n",
            "[nltk_data]   Unzipping tokenizers/punkt.zip.\n"
          ]
        },
        {
          "output_type": "execute_result",
          "data": {
            "text/plain": [
              "True"
            ]
          },
          "metadata": {},
          "execution_count": 3
        }
      ]
    },
    {
      "cell_type": "code",
      "source": [
        "# separando as cidades em tokens (tokenização)\n",
        "\n",
        "lista_tokens = nltk.tokenize.word_tokenize(lista_treino)\n",
        "print(f'O número de palavras é {len(lista_tokens)}')"
      ],
      "metadata": {
        "colab": {
          "base_uri": "https://localhost:8080/"
        },
        "id": "vAgcgaJ0H0zP",
        "outputId": "1e95d83d-1867-4df1-fc1d-9ddebd22c3e3"
      },
      "execution_count": 7,
      "outputs": [
        {
          "output_type": "stream",
          "name": "stdout",
          "text": [
            "O número de palavras é 10288\n"
          ]
        }
      ]
    },
    {
      "cell_type": "code",
      "source": [
        "# agora vamos contar quantas palavras diferentes temos na lista\n",
        "# antes de contar as palavras diferentes vamos normalizar as palavras para lower case\n",
        "\n",
        "def normalizacao(lista_palavras):\n",
        "  lista_normalizada = []\n",
        "  for palavra in lista_palavras:\n",
        "    lista_normalizada.append(palavra.lower())\n",
        "  return lista_normalizada"
      ],
      "metadata": {
        "id": "QW9RAhe0I7ze"
      },
      "execution_count": 8,
      "outputs": []
    },
    {
      "cell_type": "code",
      "source": [
        "lista_normalizada = normalizacao(lista_tokens)\n",
        "print(lista_normalizada[:5])"
      ],
      "metadata": {
        "colab": {
          "base_uri": "https://localhost:8080/"
        },
        "id": "rcE6gn6tKhjc",
        "outputId": "01b0b130-533a-4070-df50-dc586fdf6d26"
      },
      "execution_count": 9,
      "outputs": [
        {
          "output_type": "stream",
          "name": "stdout",
          "text": [
            "['acrelândia', 'assis', 'brasil', 'brasiléia', 'bujari']\n"
          ]
        }
      ]
    },
    {
      "cell_type": "code",
      "source": [
        "# vamos remover as palavras repetidas criando o set\n",
        "# para então contar com len\n",
        "\n",
        "len(set(lista_normalizada))"
      ],
      "metadata": {
        "colab": {
          "base_uri": "https://localhost:8080/"
        },
        "id": "hKD2ZRSOKqA0",
        "outputId": "5fb37de2-3564-4897-b8b6-389f96b87e47"
      },
      "execution_count": 10,
      "outputs": [
        {
          "output_type": "execute_result",
          "data": {
            "text/plain": [
              "3971"
            ]
          },
          "metadata": {},
          "execution_count": 10
        }
      ]
    },
    {
      "cell_type": "code",
      "source": [],
      "metadata": {
        "id": "woCw5CHCK0ay"
      },
      "execution_count": null,
      "outputs": []
    }
  ]
}